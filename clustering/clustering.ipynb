{
 "cells": [
  {
   "cell_type": "markdown",
   "id": "70585447-51e0-4a8c-922f-70239a274a29",
   "metadata": {},
   "source": [
    "# Botnet Clustering"
   ]
  },
  {
   "cell_type": "code",
   "execution_count": 1,
   "id": "f9f0d9ab-9cbc-400e-9387-6b2be773a692",
   "metadata": {},
   "outputs": [
    {
     "name": "stdout",
     "output_type": "stream",
     "text": [
      "Requirement already satisfied: networkx in /Library/Frameworks/Python.framework/Versions/3.10/lib/python3.10/site-packages (3.3)\n",
      "Requirement already satisfied: pandas in /Library/Frameworks/Python.framework/Versions/3.10/lib/python3.10/site-packages (1.4.4)\n",
      "Requirement already satisfied: scikit-learn in /Library/Frameworks/Python.framework/Versions/3.10/lib/python3.10/site-packages (1.5.0)\n",
      "Collecting python-louvain\n",
      "  Downloading python-louvain-0.16.tar.gz (204 kB)\n",
      "  Preparing metadata (setup.py) ... \u001b[?25ldone\n",
      "\u001b[?25hRequirement already satisfied: matplotlib in /Library/Frameworks/Python.framework/Versions/3.10/lib/python3.10/site-packages (3.9.0)\n",
      "Requirement already satisfied: python-dateutil>=2.8.1 in /Library/Frameworks/Python.framework/Versions/3.10/lib/python3.10/site-packages (from pandas) (2.8.2)\n",
      "Requirement already satisfied: pytz>=2020.1 in /Library/Frameworks/Python.framework/Versions/3.10/lib/python3.10/site-packages (from pandas) (2022.2.1)\n",
      "Requirement already satisfied: numpy>=1.21.0 in /Library/Frameworks/Python.framework/Versions/3.10/lib/python3.10/site-packages (from pandas) (1.26.4)\n",
      "Requirement already satisfied: scipy>=1.6.0 in /Library/Frameworks/Python.framework/Versions/3.10/lib/python3.10/site-packages (from scikit-learn) (1.13.1)\n",
      "Requirement already satisfied: joblib>=1.2.0 in /Library/Frameworks/Python.framework/Versions/3.10/lib/python3.10/site-packages (from scikit-learn) (1.2.0)\n",
      "Requirement already satisfied: threadpoolctl>=3.1.0 in /Library/Frameworks/Python.framework/Versions/3.10/lib/python3.10/site-packages (from scikit-learn) (3.5.0)\n",
      "Requirement already satisfied: contourpy>=1.0.1 in /Library/Frameworks/Python.framework/Versions/3.10/lib/python3.10/site-packages (from matplotlib) (1.2.1)\n",
      "Requirement already satisfied: cycler>=0.10 in /Library/Frameworks/Python.framework/Versions/3.10/lib/python3.10/site-packages (from matplotlib) (0.12.1)\n",
      "Requirement already satisfied: fonttools>=4.22.0 in /Library/Frameworks/Python.framework/Versions/3.10/lib/python3.10/site-packages (from matplotlib) (4.53.0)\n",
      "Requirement already satisfied: kiwisolver>=1.3.1 in /Library/Frameworks/Python.framework/Versions/3.10/lib/python3.10/site-packages (from matplotlib) (1.4.5)\n",
      "Requirement already satisfied: packaging>=20.0 in /Library/Frameworks/Python.framework/Versions/3.10/lib/python3.10/site-packages (from matplotlib) (24.0)\n",
      "Requirement already satisfied: pillow>=8 in /Library/Frameworks/Python.framework/Versions/3.10/lib/python3.10/site-packages (from matplotlib) (10.3.0)\n",
      "Requirement already satisfied: pyparsing>=2.3.1 in /Library/Frameworks/Python.framework/Versions/3.10/lib/python3.10/site-packages (from matplotlib) (3.0.9)\n",
      "Requirement already satisfied: six>=1.5 in /Library/Frameworks/Python.framework/Versions/3.10/lib/python3.10/site-packages (from python-dateutil>=2.8.1->pandas) (1.16.0)\n",
      "Building wheels for collected packages: python-louvain\n",
      "  Building wheel for python-louvain (setup.py) ... \u001b[?25ldone\n",
      "\u001b[?25h  Created wheel for python-louvain: filename=python_louvain-0.16-py3-none-any.whl size=9389 sha256=3d0e71ee094eb044b20b795569a19611bcb7d2e8420e0651eb76a322df5c4276\n",
      "  Stored in directory: /Users/sebastianschuetz/Library/Caches/pip/wheels/d0/b0/d7/6dd26c3817810fa379088eaeb755a01d9a2a411c37632079d1\n",
      "Successfully built python-louvain\n",
      "Installing collected packages: python-louvain\n",
      "Successfully installed python-louvain-0.16\n",
      "\n",
      "\u001b[1m[\u001b[0m\u001b[34;49mnotice\u001b[0m\u001b[1;39;49m]\u001b[0m\u001b[39;49m A new release of pip is available: \u001b[0m\u001b[31;49m24.3.1\u001b[0m\u001b[39;49m -> \u001b[0m\u001b[32;49m25.0\u001b[0m\n",
      "\u001b[1m[\u001b[0m\u001b[34;49mnotice\u001b[0m\u001b[1;39;49m]\u001b[0m\u001b[39;49m To update, run: \u001b[0m\u001b[32;49mpip install --upgrade pip\u001b[0m\n"
     ]
    }
   ],
   "source": [
    "!pip install networkx pandas scikit-learn python-louvain matplotlib"
   ]
  },
  {
   "cell_type": "code",
   "execution_count": 7,
   "id": "c1aa6045-a0a7-4bb8-a91d-61d208a12efa",
   "metadata": {},
   "outputs": [
    {
     "ename": "AttributeError",
     "evalue": "module 'networkx' has no attribute 'to_numpy_matrix'",
     "output_type": "error",
     "traceback": [
      "\u001b[0;31m---------------------------------------------------------------------------\u001b[0m",
      "\u001b[0;31mAttributeError\u001b[0m                            Traceback (most recent call last)",
      "Cell \u001b[0;32mIn[7], line 37\u001b[0m\n\u001b[1;32m     35\u001b[0m     clusters \u001b[38;5;241m=\u001b[39m louvain_clustering(G)\n\u001b[1;32m     36\u001b[0m \u001b[38;5;28;01melse\u001b[39;00m:\n\u001b[0;32m---> 37\u001b[0m     clusters \u001b[38;5;241m=\u001b[39m \u001b[43mkmeans_clustering\u001b[49m\u001b[43m(\u001b[49m\u001b[43mG\u001b[49m\u001b[43m,\u001b[49m\u001b[43m \u001b[49m\u001b[43mnum_clusters\u001b[49m\u001b[38;5;241;43m=\u001b[39;49m\u001b[38;5;241;43m3\u001b[39;49m\u001b[43m)\u001b[49m\n\u001b[1;32m     39\u001b[0m \u001b[38;5;66;03m# Add cluster labels to nodes\u001b[39;00m\n\u001b[1;32m     40\u001b[0m nx\u001b[38;5;241m.\u001b[39mset_node_attributes(G, clusters, \u001b[38;5;124m\"\u001b[39m\u001b[38;5;124mcluster\u001b[39m\u001b[38;5;124m\"\u001b[39m)\n",
      "Cell \u001b[0;32mIn[7], line 26\u001b[0m, in \u001b[0;36mkmeans_clustering\u001b[0;34m(G, num_clusters)\u001b[0m\n\u001b[1;32m     24\u001b[0m \u001b[38;5;28;01mdef\u001b[39;00m \u001b[38;5;21mkmeans_clustering\u001b[39m(G, num_clusters\u001b[38;5;241m=\u001b[39m\u001b[38;5;241m3\u001b[39m):  \u001b[38;5;66;03m# Adjust number of clusters\u001b[39;00m\n\u001b[1;32m     25\u001b[0m     nodes \u001b[38;5;241m=\u001b[39m \u001b[38;5;28mlist\u001b[39m(G\u001b[38;5;241m.\u001b[39mnodes())\n\u001b[0;32m---> 26\u001b[0m     adj_matrix \u001b[38;5;241m=\u001b[39m \u001b[43mnx\u001b[49m\u001b[38;5;241;43m.\u001b[39;49m\u001b[43mto_numpy_matrix\u001b[49m(G, nodelist\u001b[38;5;241m=\u001b[39mnodes)  \u001b[38;5;66;03m# Convert to adjacency matrix\u001b[39;00m\n\u001b[1;32m     27\u001b[0m     kmeans \u001b[38;5;241m=\u001b[39m KMeans(n_clusters\u001b[38;5;241m=\u001b[39mnum_clusters, random_state\u001b[38;5;241m=\u001b[39m\u001b[38;5;241m42\u001b[39m, n_init\u001b[38;5;241m=\u001b[39m\u001b[38;5;241m10\u001b[39m)\n\u001b[1;32m     28\u001b[0m     labels \u001b[38;5;241m=\u001b[39m kmeans\u001b[38;5;241m.\u001b[39mfit_predict(adj_matrix)\n",
      "\u001b[0;31mAttributeError\u001b[0m: module 'networkx' has no attribute 'to_numpy_matrix'"
     ]
    }
   ],
   "source": [
    "import pandas as pd\n",
    "import networkx as nx\n",
    "import matplotlib.pyplot as plt\n",
    "from sklearn.cluster import KMeans\n",
    "import community  # python-louvain\n",
    "\n",
    "# Load the dataset\n",
    "df = pd.read_csv(\"cs448b_ipasn.csv\")  # Ensure it has 'source', 'target', 'connections'\n",
    "\n",
    "# Filter to only include nodes 0 to 9\n",
    "filtered_df = df[(df['Source'].between(0, 9)) & (df['Target'].between(0, 9))]\n",
    "\n",
    "# Create a weighted graph with the filtered nodes\n",
    "G = nx.Graph()\n",
    "for _, row in filtered_df.iterrows():\n",
    "    G.add_edge(row['Source'], row['Target'], weight=row['f'])\n",
    "\n",
    "# --- Option 1: Louvain Community Detection ---\n",
    "def louvain_clustering(G):\n",
    "    partition = community.best_partition(G, weight='weight')\n",
    "    return partition  # Dictionary {node: community_id}\n",
    "\n",
    "# --- Option 2: K-Means Clustering ---\n",
    "def kmeans_clustering(G, num_clusters=3):  # Adjust number of clusters\n",
    "    nodes = list(G.nodes())\n",
    "    adj_matrix = nx.to_numpy_matrix(G, nodelist=nodes)  # Convert to adjacency matrix\n",
    "    kmeans = KMeans(n_clusters=num_clusters, random_state=42, n_init=10)\n",
    "    labels = kmeans.fit_predict(adj_matrix)\n",
    "    return dict(zip(nodes, labels))\n",
    "\n",
    "# Choose a clustering method\n",
    "use_louvain = False\n",
    "\n",
    "if use_louvain:\n",
    "    clusters = louvain_clustering(G)\n",
    "else:\n",
    "    clusters = kmeans_clustering(G, num_clusters=3)\n",
    "\n",
    "# Add cluster labels to nodes\n",
    "nx.set_node_attributes(G, clusters, \"cluster\")\n",
    "\n",
    "# Visualize Clusters\n",
    "plt.figure(figsize=(8, 6))\n",
    "pos = nx.spring_layout(G, seed=42)  # Layout for visualization\n",
    "colors = [clusters[node] for node in G.nodes()]\n",
    "nx.draw(G, pos, node_color=colors, cmap=plt.cm.Set1, with_labels=True, node_size=800, font_size=12)\n",
    "plt.title(\"Clustering of Nodes 0-9 Based on Communication Patterns\")\n",
    "plt.show()\n",
    "\n",
    "# Save clusters to CSV\n",
    "cluster_df = pd.DataFrame(list(clusters.items()), columns=['Node', 'Cluster'])\n",
    "cluster_df.to_csv(\"node_clusters_0_to_9.csv\", index=False)"
   ]
  },
  {
   "cell_type": "code",
   "execution_count": null,
   "id": "ad815910-5b44-4437-9547-489ae7fd9ba7",
   "metadata": {},
   "outputs": [],
   "source": []
  }
 ],
 "metadata": {
  "kernelspec": {
   "display_name": "Python 3 (ipykernel)",
   "language": "python",
   "name": "python3"
  },
  "language_info": {
   "codemirror_mode": {
    "name": "ipython",
    "version": 3
   },
   "file_extension": ".py",
   "mimetype": "text/x-python",
   "name": "python",
   "nbconvert_exporter": "python",
   "pygments_lexer": "ipython3",
   "version": "3.10.7"
  }
 },
 "nbformat": 4,
 "nbformat_minor": 5
}
