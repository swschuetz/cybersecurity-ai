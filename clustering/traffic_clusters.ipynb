{
 "cells": [
  {
   "cell_type": "markdown",
   "id": "9d43928e-876e-40c1-b622-7ae1d789fe22",
   "metadata": {},
   "source": [
    "# Cybersecurity Anomaly Detection using K-Means Clustering with Network Traffic Features\n",
    "\n",
    "- Author: Sebastian Schuetz, swschuetz@outlook.com\n",
    "- Date: Feb 12, 2025\n",
    "\n",
    "## 1. Introduction\n",
    "In network security, anomalies in traffic patterns can indicate potential intrusions or malicious behavior. In this exercise, you will:\n",
    "- Generate data for analysis\n",
    "- Use the elbow method to determine the optimal number of clusters.\n",
    "- Apply K-Means clustering to group similar network behavior.\n",
    "- Compute distances from cluster centers to flag potential anomalies.\n",
    "- Compare the clustering-based anomaly predictions with our known (simulated) anomaly labels.\n"
   ]
  },
  {
   "cell_type": "markdown",
   "id": "1c26df50-6410-4875-8397-5ca118f4b183",
   "metadata": {},
   "source": [
    "## 2. Generate Data for Analysis"
   ]
  },
  {
   "cell_type": "code",
   "execution_count": null,
   "id": "a5008f73-730a-410f-afb7-a08ec8285b40",
   "metadata": {},
   "outputs": [],
   "source": [
    "import numpy as np\n",
    "import pandas as pd\n",
    "import matplotlib.pyplot as plt\n",
    "from sklearn.cluster import KMeans\n",
    "from sklearn.preprocessing import StandardScaler\n",
    "from sklearn.datasets import make_blobs\n",
    "from sklearn.metrics import confusion_matrix, classification_report\n",
    "\n",
    "# For reproducibility\n",
    "np.random.seed(42)\n",
    "\n",
    "# Number of samples\n",
    "n_samples_normal = 500\n",
    "n_samples_anomaly = 20\n",
    "\n",
    "# Define centers for 3 clusters in 4 dimensions\n",
    "centers = [[50, 10, 100, 20], [70, 20, 150, 25], [60, 15, 120, 22]]\n",
    "cluster_std = 5  # Controls spread within each cluster\n",
    "\n",
    "# Generate synthetic normal network traffic data\n",
    "X_normal, _ = make_blobs(n_samples=n_samples_normal, centers=centers, \n",
    "                         cluster_std=cluster_std, n_features=4, random_state=42)\n",
    "\n",
    "# Generate synthetic anomalies (e.g., abnormal network behavior)\n",
    "X_anomaly = np.random.uniform(low=20, high=100, size=(n_samples_anomaly, 4))\n",
    "# Optionally, shift the anomalies further away:\n",
    "X_anomaly = X_anomaly + np.random.uniform(low=15, high=30, size=(n_samples_anomaly, 4))\n",
    "\n",
    "# Combine the data into one dataset\n",
    "X_combined = np.vstack([X_normal, X_anomaly])\n",
    "\n",
    "# Create a DataFrame with appropriate feature names\n",
    "columns = ['packet_size', 'connection_duration', 'num_packets', 'inter_arrival_time']\n",
    "df = pd.DataFrame(X_combined, columns=columns)\n",
    "\n",
    "# For evaluation purposes, mark anomalies (0 = normal, 1 = anomaly)\n",
    "df['is_anomaly'] = 0\n",
    "df.loc[n_samples_normal:, 'is_anomaly'] = 1\n",
    "\n",
    "df_loaded = df"
   ]
  },
  {
   "cell_type": "markdown",
   "id": "9bde9fb9-d125-4cb5-b1e0-db3fbd77a8a4",
   "metadata": {},
   "source": [
    "## 3. Exploratory Data Analysis (EDA)\n",
    "Next, we explore the data using boxplots. \n",
    "\n",
    "Note: Boxplots analyze one feature at a time and do not consider the relationships between multiple features. In multivariate datasets, an observation might be unremarkable in each individual feature yet be anomalous when considering the combination of features. Furthermore, boxplots use the 1.5×IQR rule to identify outliers. This, however, is a heuristic—it might be too strict or too lenient depending on the distribution and context."
   ]
  },
  {
   "cell_type": "code",
   "execution_count": null,
   "id": "16d3141a-919e-48fb-9ec7-b72516956d9e",
   "metadata": {},
   "outputs": [],
   "source": [
    "# List of features for boxplots\n",
    "features = ['packet_size', 'connection_duration', 'num_packets', 'inter_arrival_time']\n",
    "\n",
    "# Set up a 2x2 grid of subplots\n",
    "fig, axes = plt.subplots(nrows=2, ncols=2, figsize=(12, 8))\n",
    "axes = axes.flatten()\n",
    "\n",
    "for i, feature in enumerate(features):\n",
    "    axes[i].boxplot(df_loaded[feature])\n",
    "    axes[i].set_title(feature)\n",
    "    axes[i].set_ylabel(feature)\n",
    "    axes[i].grid(True)\n",
    "\n",
    "plt.tight_layout()\n",
    "plt.show()"
   ]
  },
  {
   "cell_type": "markdown",
   "id": "76cb9587-27ab-404a-a8c8-344255127c0a",
   "metadata": {},
   "source": [
    "## 4. Cluster Analysis"
   ]
  },
  {
   "cell_type": "markdown",
   "id": "0813b694-89da-431b-b36f-31dee366830c",
   "metadata": {},
   "source": [
    "### 4.1 Determine the Optimal Number of Clusters (Elbow Method)"
   ]
  },
  {
   "cell_type": "code",
   "execution_count": null,
   "id": "120c3655-16f9-4e0f-8c6e-c049cc0aebba",
   "metadata": {},
   "outputs": [],
   "source": [
    "wcss = []\n",
    "for i in range(1, 11):\n",
    "    kmeans = KMeans(n_clusters=i, random_state=42)\n",
    "    kmeans.fit(df_loaded)\n",
    "    wcss.append(kmeans.inertia_)\n",
    "\n",
    "plt.figure(figsize=(8, 5))\n",
    "plt.plot(range(1, 11), wcss, marker='o')\n",
    "plt.xlabel('Number of Clusters')\n",
    "plt.ylabel('WCSS')\n",
    "plt.title('Elbow Method For Optimal k')\n",
    "plt.show()"
   ]
  },
  {
   "cell_type": "markdown",
   "id": "b137fced-af97-41f1-aa4d-14c67d45fa04",
   "metadata": {},
   "source": [
    "### 4.1 Perform K-Means Cluster Analysis\n",
    "Based on the elbow plot, we observe that 3 seems to be a good number of clusters. Hence, we decide to classify the data into three (k=3) clusters.\n",
    "\n",
    "<div style=\"border: 2px solid red; padding: 10px; color: red;\">\n",
    "<b>Experiment 1:</b> Vary the number of clusters by chaning k=2, k=5, etc. Observe how this affects the clustering results. Which clustering solution is the most useful for our purposes, i.e., identifying anomalies in network traffic?\n",
    "</div>"
   ]
  },
  {
   "cell_type": "code",
   "execution_count": null,
   "id": "c1747646-73d6-45d7-926a-4baa61410539",
   "metadata": {},
   "outputs": [],
   "source": []
  },
  {
   "cell_type": "code",
   "execution_count": null,
   "id": "6bdc6944-cc7a-4980-a4f6-5e508eff6c3d",
   "metadata": {},
   "outputs": [],
   "source": [
    "k = 3\n",
    "kmeans = KMeans(n_clusters=k, random_state=42)\n",
    "df_loaded['cluster'] = kmeans.fit_predict(df_loaded[features])"
   ]
  },
  {
   "cell_type": "markdown",
   "id": "d4546171-db27-411c-89fd-56ef84178343",
   "metadata": {},
   "source": [
    "Let's visualize the clusters:"
   ]
  },
  {
   "cell_type": "code",
   "execution_count": null,
   "id": "912d2405-524b-45cd-9d23-e1b8e2e46ea4",
   "metadata": {},
   "outputs": [],
   "source": [
    "import matplotlib.pyplot as plt\n",
    "from mpl_toolkits.mplot3d import Axes3D  # Required for 3D plotting\n",
    "\n",
    "# Create a 3D figure\n",
    "fig = plt.figure(figsize=(10, 8))\n",
    "ax = fig.add_subplot(111, projection='3d')\n",
    "\n",
    "# Create the 3D scatter plot.\n",
    "# Each point's color corresponds to its cluster label.\n",
    "sc = ax.scatter(df_loaded['packet_size'], \n",
    "                df_loaded['connection_duration'], \n",
    "                df_loaded['num_packets'],\n",
    "                c=df_loaded['cluster'],    # Use the cluster assignments for coloring\n",
    "                cmap='viridis', \n",
    "                edgecolor='k', \n",
    "                s=60)\n",
    "\n",
    "# Set the axis labels and title\n",
    "ax.set_xlabel('Packet Size', fontsize=12)\n",
    "ax.set_ylabel('Connection Duration', fontsize=12)\n",
    "ax.set_zlabel('Num Packets', fontsize=12)\n",
    "ax.set_title('3D Visualization of Clusters', fontsize=16)\n",
    "\n",
    "# Create a legend for the clusters\n",
    "# The scatter.legend_elements() method automatically creates handles and labels for each cluster.\n",
    "legend1 = ax.legend(*sc.legend_elements(), title=\"Cluster\", loc=\"upper left\", fontsize=12)\n",
    "ax.add_artist(legend1)\n",
    "\n",
    "plt.show()"
   ]
  },
  {
   "cell_type": "code",
   "execution_count": null,
   "id": "5167ae3a-1b95-42a7-9e90-6d8a6ab53262",
   "metadata": {},
   "outputs": [],
   "source": [
    "import matplotlib.pyplot as plt\n",
    "import numpy as np\n",
    "\n",
    "# Specify which cluster you want to flag as outliers\n",
    "flag_cluster = 1\n",
    "\n",
    "# List of features to plot\n",
    "features = ['packet_size', 'connection_duration', 'num_packets', 'inter_arrival_time']\n",
    "\n",
    "# Filter the DataFrame to get only the datapoints that belong to the flagged cluster\n",
    "flagged_points = df_loaded[df_loaded['cluster'] == flag_cluster]\n",
    "\n",
    "# Create a subplot for each feature in a 1 x 4 grid (adjust layout if needed)\n",
    "fig, axes = plt.subplots(nrows=2, ncols=2, figsize=(12, 8))\n",
    "axes = axes.flatten()\n",
    "\n",
    "for ax, feature in zip(axes, features):\n",
    "    # Create the boxplot for the entire dataset for the feature\n",
    "    bp = ax.boxplot(\n",
    "        df_loaded[feature],\n",
    "        vert=True,\n",
    "        patch_artist=True\n",
    "    )\n",
    "    \n",
    "    # Overlay the datapoints from the flagged cluster\n",
    "    # The boxplot is drawn at x=1 by default, so we plot our flagged points at x=1.\n",
    "    x_values = np.ones(len(flagged_points))\n",
    "    y_values = flagged_points[feature].values\n",
    "    ax.scatter(\n",
    "        x_values, y_values,\n",
    "        color='red', edgecolors='k',\n",
    "        marker='o', s=50, label='Flagged Outlier'\n",
    "    )\n",
    "    \n",
    "    ax.set_title(feature, fontsize=14)\n",
    "    ax.set_xticks([])  # Remove x-axis ticks since the boxplot is at a fixed x-position\n",
    "    ax.set_ylabel(feature, fontsize=12)\n",
    "    ax.grid(True, linestyle='--', alpha=0.6)\n",
    "\n",
    "# Create a single legend for the entire figure using the handles from the first subplot\n",
    "handles, labels = axes[0].get_legend_handles_labels()\n",
    "fig.legend(handles, labels, loc='upper right', fontsize=12)\n",
    "\n",
    "fig.suptitle(\"Boxplots of Features with Flagged Cluster Outliers (Red)\", fontsize=16)\n",
    "plt.tight_layout(rect=[0, 0, 1, 0.95])\n",
    "plt.show()"
   ]
  }
 ],
 "metadata": {
  "kernelspec": {
   "display_name": "Python 3 (ipykernel)",
   "language": "python",
   "name": "python3"
  },
  "language_info": {
   "codemirror_mode": {
    "name": "ipython",
    "version": 3
   },
   "file_extension": ".py",
   "mimetype": "text/x-python",
   "name": "python",
   "nbconvert_exporter": "python",
   "pygments_lexer": "ipython3",
   "version": "3.10.7"
  }
 },
 "nbformat": 4,
 "nbformat_minor": 5
}
