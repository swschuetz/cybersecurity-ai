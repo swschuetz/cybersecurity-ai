{
 "cells": [
  {
   "cell_type": "markdown",
   "id": "f56eb6d7-0d49-4f5d-9ea3-0cf0c0cc1e10",
   "metadata": {},
   "source": [
    "## Adversarial Sample\n",
    "\n",
    "In this notebook, we derive an advesarial sample from a trained character recognition model. The goal is to use the sample input to fool the model."
   ]
  },
  {
   "cell_type": "markdown",
   "id": "a82fcf48-8696-4c1b-9e01-442795a7bc32",
   "metadata": {},
   "source": [
    "## Step 1. Loading prerequisite packages and data"
   ]
  },
  {
   "cell_type": "code",
   "execution_count": null,
   "id": "df95e88f-afe0-4ef1-87a0-4dddbd93d74a",
   "metadata": {},
   "outputs": [],
   "source": [
    "!pip install adversarial-robustness-toolbox"
   ]
  },
  {
   "cell_type": "code",
   "execution_count": null,
   "id": "31d03539-f339-4311-a5a2-4038c36bfd3a",
   "metadata": {},
   "outputs": [],
   "source": [
    "from sklearn.svm import SVC\n",
    "import numpy as np\n",
    "\n",
    "from art.attacks.evasion import FastGradientMethod\n",
    "from art.estimators.classification import SklearnClassifier\n",
    "from art.utils import load_mnist\n",
    "\n",
    "# Step 1: Load the MNIST dataset\n",
    "\n",
    "(x_train, y_train), (x_test, y_test), min_pixel_value, max_pixel_value = load_mnist()\n",
    "\n",
    "# Step 1a: Flatten dataset\n",
    "\n",
    "nb_samples_train = x_train.shape[0]\n",
    "nb_samples_test = x_test.shape[0]\n",
    "x_train = x_train.reshape((nb_samples_train, 28 * 28))\n",
    "x_test = x_test.reshape((nb_samples_test, 28 * 28))"
   ]
  },
  {
   "cell_type": "markdown",
   "id": "ca5f770b-a03d-417c-b4ba-07b0f184d1b0",
   "metadata": {},
   "source": [
    "### Plotting First Input (X)"
   ]
  },
  {
   "cell_type": "code",
   "execution_count": null,
   "id": "0b953bb9-4435-49f4-bddb-90f4f05308ba",
   "metadata": {},
   "outputs": [],
   "source": [
    "import matplotlib.pyplot as plt\n",
    "plt.matshow(x_test[0].reshape((28,28)))"
   ]
  },
  {
   "cell_type": "markdown",
   "id": "029e91b5-9e6e-47a1-98ea-cd083906d887",
   "metadata": {},
   "source": [
    "## Associated Y"
   ]
  },
  {
   "cell_type": "code",
   "execution_count": null,
   "id": "90e761ed-4e21-4130-8a6a-8cc3ab9b6b68",
   "metadata": {},
   "outputs": [],
   "source": [
    "print(\"Value:\", np.where(y_test[0] == 1)[0][0])"
   ]
  },
  {
   "cell_type": "markdown",
   "id": "0c76c81d-6d81-464e-8b89-086d8f7d1b75",
   "metadata": {},
   "source": [
    "## Step 2. Create & Train Model\n",
    "*Note*: This may take some time!"
   ]
  },
  {
   "cell_type": "code",
   "execution_count": null,
   "id": "deab285a-0759-49c8-80e9-663bd33e6325",
   "metadata": {},
   "outputs": [],
   "source": [
    "# Step 2a: Create the support vector model\n",
    "model = SVC(C=1.0, kernel=\"rbf\")\n",
    "\n",
    "# Step 2b: Create the ART classifier\n",
    "classifier = SklearnClassifier(model=model, clip_values=(min_pixel_value, max_pixel_value))\n",
    "\n",
    "# Step 2c: Train the ART classifier\n",
    "classifier.fit(x_train, y_train)"
   ]
  },
  {
   "cell_type": "markdown",
   "id": "92f448d2-a6c4-469b-99b1-d2ab4770aec1",
   "metadata": {},
   "source": [
    "## Test the Trained Model"
   ]
  },
  {
   "cell_type": "code",
   "execution_count": null,
   "id": "f04e1842-d4f9-4241-8d62-36a76ac95d93",
   "metadata": {},
   "outputs": [],
   "source": [
    "# Step 2d: Use the model to predict the example value\n",
    "p = classifier.predict([x_test[0]])\n",
    "print(\"Prediction:\", np.where(p == 1)[1][0])"
   ]
  },
  {
   "cell_type": "markdown",
   "id": "cabac9c9-1d31-4cdb-ada4-49f09792d0dd",
   "metadata": {},
   "source": [
    "## Evaluate Trained Model Accuracy"
   ]
  },
  {
   "cell_type": "code",
   "execution_count": null,
   "id": "b1ab98e0-07eb-4b34-ad18-a99a3f4f9177",
   "metadata": {},
   "outputs": [],
   "source": [
    "# Step 2e: Evaluate the ART classifier on benign test examples\n",
    "predictions = classifier.predict(x_test)\n",
    "accuracy = np.sum(np.argmax(predictions, axis=1) == np.argmax(y_test, axis=1)) / len(y_test)\n",
    "print(\"Accuracy on begning test data: {}%\".format(accuracy * 100))"
   ]
  },
  {
   "cell_type": "markdown",
   "id": "3e50758d-623a-403a-bb64-1dd8be329a16",
   "metadata": {},
   "source": [
    "## Step 3. Generate Adversarial Sample"
   ]
  },
  {
   "cell_type": "code",
   "execution_count": null,
   "id": "0111dd0b-ed3f-4ac7-bec9-4903afaad333",
   "metadata": {},
   "outputs": [],
   "source": [
    "# Step 3: Generate adversarial sample\n",
    "attack = FastGradientMethod(estimator=classifier, eps=0.2)\n",
    "x_test_adv = attack.generate(x=x_test)"
   ]
  },
  {
   "cell_type": "code",
   "execution_count": null,
   "id": "52739519-00b8-4030-a930-68f569fb84d8",
   "metadata": {},
   "outputs": [],
   "source": [
    "plt.matshow(x_test_adv[0].reshape((28,28)))"
   ]
  },
  {
   "cell_type": "markdown",
   "id": "d0a1d351-c747-455d-8e8c-b0024b9688cf",
   "metadata": {},
   "source": [
    "## Step 4. Test Trained Model on Advesarial Sample"
   ]
  },
  {
   "cell_type": "code",
   "execution_count": null,
   "id": "5434e8e8-5a73-4045-8da5-91c08f078ddc",
   "metadata": {},
   "outputs": [],
   "source": [
    "import numpy as np\n",
    "p = classifier.predict([x_test_adv[0]])\n",
    "print(\"Prediction:\", np.where(p == 1)[1][0])"
   ]
  },
  {
   "cell_type": "markdown",
   "id": "8aeec767-9b87-4edf-a711-ec79f0479851",
   "metadata": {},
   "source": [
    "## Step 5: Evaluate the Trained Classifier on Adversarial Test Sample"
   ]
  },
  {
   "cell_type": "code",
   "execution_count": null,
   "id": "acea2258-f04b-44cb-b56f-ead88a378b47",
   "metadata": {},
   "outputs": [],
   "source": [
    "predictions = classifier.predict(x_test_adv)\n",
    "accuracy = np.sum(np.argmax(predictions, axis=1) == np.argmax(y_test, axis=1)) / len(y_test)\n",
    "print(\"Accuracy on adversarial test sample: {}%\".format(accuracy * 100))"
   ]
  }
 ],
 "metadata": {
  "kernelspec": {
   "display_name": "Python 3 (ipykernel)",
   "language": "python",
   "name": "python3"
  },
  "language_info": {
   "codemirror_mode": {
    "name": "ipython",
    "version": 3
   },
   "file_extension": ".py",
   "mimetype": "text/x-python",
   "name": "python",
   "nbconvert_exporter": "python",
   "pygments_lexer": "ipython3",
   "version": "3.10.7"
  }
 },
 "nbformat": 4,
 "nbformat_minor": 5
}
