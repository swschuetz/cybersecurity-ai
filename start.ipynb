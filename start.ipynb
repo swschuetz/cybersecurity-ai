{
 "cells": [
  {
   "cell_type": "markdown",
   "id": "ccd69d29-a8d6-4c3a-9608-6a17508c7524",
   "metadata": {},
   "source": [
    "# Getting Started with Python and Jupyter Notebooks\n",
    "\n",
    "- Author: Sebastian Schuetz, swschuetz@outlook.com\n",
    "- Date: Feb 12, 2025\n",
    "\n",
    "**Objective**: The goal of this notebook is to familiarize yourself with some basic functions of python and jupyter notebooks."
   ]
  },
  {
   "cell_type": "markdown",
   "id": "90e0f3dd-c0a7-4194-baf5-29f6764f9871",
   "metadata": {},
   "source": [
    "# Step 1. Executing Code\n",
    "In jupyter, there are text blocks and code blocks. Code blocks can be executed and return results. Try executing the code block below by selecting it and clicking the play button."
   ]
  },
  {
   "cell_type": "code",
   "execution_count": null,
   "id": "9f570fd8-3047-4d4d-a2ae-ecd874a5ac80",
   "metadata": {},
   "outputs": [],
   "source": [
    "1 + 1"
   ]
  },
  {
   "cell_type": "markdown",
   "id": "fcb9f485-937c-4232-b156-63dbc133a26a",
   "metadata": {},
   "source": [
    "# Step 2. Variable Assignments\n",
    "Python allows one to assign values to variables. Execute the code below."
   ]
  },
  {
   "cell_type": "code",
   "execution_count": null,
   "id": "52ced244-883d-4f4a-8448-45bcdd80173b",
   "metadata": {},
   "outputs": [],
   "source": [
    "# Variable assignments\n",
    "a = 1\n",
    "b = 2\n",
    "\n",
    "# Artihmetic Operation\n",
    "a + b"
   ]
  },
  {
   "cell_type": "markdown",
   "id": "07e34792-09fd-40a1-ad02-3b918a8faa4c",
   "metadata": {},
   "source": [
    "# Step 3. Defining functions\n",
    "Python allows for the definition of custom functions and procedures. See code example below:"
   ]
  },
  {
   "cell_type": "code",
   "execution_count": null,
   "id": "8c5a45d9-457d-4564-b5a8-d43326f4e807",
   "metadata": {},
   "outputs": [],
   "source": [
    "# Defining a custom arithmetic function that adds two values passed to the function as parameters.\n",
    "# Function returns the result of the arithmetic operation.\n",
    "def custom_function(parameter1, parameter2):\n",
    "    return parameter1 + parameter2\n",
    "    \n",
    "custom_function(1, 2)"
   ]
  },
  {
   "cell_type": "markdown",
   "id": "6fe15738-6ced-4a92-83e5-b96e0239b684",
   "metadata": {},
   "source": [
    "# Step 4. Comments\n",
    "Python differentiates between executable code and comments. Comments start with # and will not be executed. They can thus help enable an disable code.\n",
    "\n",
    "**Try** removing the # in the line code block below and see how the result changes."
   ]
  },
  {
   "cell_type": "code",
   "execution_count": null,
   "id": "010b9e42-78a9-45cf-a097-285fff8cc237",
   "metadata": {},
   "outputs": [],
   "source": [
    "a = 1\n",
    "b = 1\n",
    "\n",
    "# b = 2\n",
    "\n",
    "a + b"
   ]
  },
  {
   "cell_type": "code",
   "execution_count": null,
   "id": "75b0317d-1aac-40ad-b8f5-4554d52db328",
   "metadata": {},
   "outputs": [],
   "source": []
  }
 ],
 "metadata": {
  "kernelspec": {
   "display_name": "Python 3 (ipykernel)",
   "language": "python",
   "name": "python3"
  },
  "language_info": {
   "codemirror_mode": {
    "name": "ipython",
    "version": 3
   },
   "file_extension": ".py",
   "mimetype": "text/x-python",
   "name": "python",
   "nbconvert_exporter": "python",
   "pygments_lexer": "ipython3",
   "version": "3.10.7"
  }
 },
 "nbformat": 4,
 "nbformat_minor": 5
}
