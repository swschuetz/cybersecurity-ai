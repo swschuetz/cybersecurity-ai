{
 "cells": [
  {
   "cell_type": "markdown",
   "id": "2f001bdf-3a50-4681-ace1-6e9eaeca7610",
   "metadata": {},
   "source": [
    "# Predicting Airbnb Listing Prices with Multiple Regression\n",
    "\n",
    "In this exercise, we will build a multiple regression model to predict Airbnb listing prices. We will work through the following steps:\n",
    "\n",
    "1. **Data Loading & Exploratory Data Analysis (EDA)**\n",
    "2. **Splitting the Data into Training and Testing Sets**\n",
    "3. **Fitting the Multiple Regression Model**\n",
    "4. **Model Diagnostics**\n",
    "5. **Evaluating Model Performance on the Test Set**"
   ]
  },
  {
   "cell_type": "markdown",
   "id": "7d634c35-c385-47e1-8d66-a7af3ac210e7",
   "metadata": {},
   "source": [
    "## 1. Data Loading\n",
    "\n",
    "In this step, we load the dataset, inspect its structure, and perform basic exploratory analysis."
   ]
  },
  {
   "cell_type": "code",
   "execution_count": 22,
   "id": "c021e8ed-108f-48a1-ada7-08ceeb575d34",
   "metadata": {},
   "outputs": [
    {
     "data": {
      "text/html": [
       "<div>\n",
       "<style scoped>\n",
       "    .dataframe tbody tr th:only-of-type {\n",
       "        vertical-align: middle;\n",
       "    }\n",
       "\n",
       "    .dataframe tbody tr th {\n",
       "        vertical-align: top;\n",
       "    }\n",
       "\n",
       "    .dataframe thead th {\n",
       "        text-align: right;\n",
       "    }\n",
       "</style>\n",
       "<table border=\"1\" class=\"dataframe\">\n",
       "  <thead>\n",
       "    <tr style=\"text-align: right;\">\n",
       "      <th></th>\n",
       "      <th>Price</th>\n",
       "      <th>Minimum_Nights</th>\n",
       "      <th>Accommodates</th>\n",
       "      <th>Bedrooms</th>\n",
       "      <th>Bathrooms</th>\n",
       "      <th>Distance_CityCenter</th>\n",
       "      <th>Review_Score</th>\n",
       "      <th>Number_of_Reviews</th>\n",
       "      <th>Amenities_Score</th>\n",
       "      <th>Superhost</th>\n",
       "      <th>Listing_Age</th>\n",
       "      <th>Room_Type</th>\n",
       "    </tr>\n",
       "  </thead>\n",
       "  <tbody>\n",
       "    <tr>\n",
       "      <th>0</th>\n",
       "      <td>244.33</td>\n",
       "      <td>7</td>\n",
       "      <td>2</td>\n",
       "      <td>5</td>\n",
       "      <td>2.3</td>\n",
       "      <td>1.6</td>\n",
       "      <td>4.7</td>\n",
       "      <td>132</td>\n",
       "      <td>2</td>\n",
       "      <td>0</td>\n",
       "      <td>6</td>\n",
       "      <td>Shared room</td>\n",
       "    </tr>\n",
       "    <tr>\n",
       "      <th>1</th>\n",
       "      <td>178.13</td>\n",
       "      <td>4</td>\n",
       "      <td>1</td>\n",
       "      <td>2</td>\n",
       "      <td>2.3</td>\n",
       "      <td>3.7</td>\n",
       "      <td>4.7</td>\n",
       "      <td>357</td>\n",
       "      <td>3</td>\n",
       "      <td>0</td>\n",
       "      <td>2</td>\n",
       "      <td>Entire home/apt</td>\n",
       "    </tr>\n",
       "    <tr>\n",
       "      <th>2</th>\n",
       "      <td>240.47</td>\n",
       "      <td>8</td>\n",
       "      <td>7</td>\n",
       "      <td>0</td>\n",
       "      <td>2.7</td>\n",
       "      <td>1.4</td>\n",
       "      <td>4.7</td>\n",
       "      <td>258</td>\n",
       "      <td>9</td>\n",
       "      <td>1</td>\n",
       "      <td>0</td>\n",
       "      <td>Entire home/apt</td>\n",
       "    </tr>\n",
       "    <tr>\n",
       "      <th>3</th>\n",
       "      <td>173.71</td>\n",
       "      <td>5</td>\n",
       "      <td>7</td>\n",
       "      <td>0</td>\n",
       "      <td>1.5</td>\n",
       "      <td>1.4</td>\n",
       "      <td>3.9</td>\n",
       "      <td>436</td>\n",
       "      <td>7</td>\n",
       "      <td>0</td>\n",
       "      <td>4</td>\n",
       "      <td>Entire home/apt</td>\n",
       "    </tr>\n",
       "    <tr>\n",
       "      <th>4</th>\n",
       "      <td>259.00</td>\n",
       "      <td>7</td>\n",
       "      <td>8</td>\n",
       "      <td>3</td>\n",
       "      <td>2.0</td>\n",
       "      <td>3.5</td>\n",
       "      <td>3.4</td>\n",
       "      <td>22</td>\n",
       "      <td>7</td>\n",
       "      <td>1</td>\n",
       "      <td>1</td>\n",
       "      <td>Entire home/apt</td>\n",
       "    </tr>\n",
       "  </tbody>\n",
       "</table>\n",
       "</div>"
      ],
      "text/plain": [
       "    Price  Minimum_Nights  Accommodates  Bedrooms  Bathrooms  \\\n",
       "0  244.33               7             2         5        2.3   \n",
       "1  178.13               4             1         2        2.3   \n",
       "2  240.47               8             7         0        2.7   \n",
       "3  173.71               5             7         0        1.5   \n",
       "4  259.00               7             8         3        2.0   \n",
       "\n",
       "   Distance_CityCenter  Review_Score  Number_of_Reviews  Amenities_Score  \\\n",
       "0                  1.6           4.7                132                2   \n",
       "1                  3.7           4.7                357                3   \n",
       "2                  1.4           4.7                258                9   \n",
       "3                  1.4           3.9                436                7   \n",
       "4                  3.5           3.4                 22                7   \n",
       "\n",
       "   Superhost  Listing_Age        Room_Type  \n",
       "0          0            6      Shared room  \n",
       "1          0            2  Entire home/apt  \n",
       "2          1            0  Entire home/apt  \n",
       "3          0            4  Entire home/apt  \n",
       "4          1            1  Entire home/apt  "
      ]
     },
     "execution_count": 22,
     "metadata": {},
     "output_type": "execute_result"
    }
   ],
   "source": [
    "# Import necessary libraries\n",
    "import pandas as pd\n",
    "\n",
    "# Load the dataset\n",
    "data = pd.read_csv('regression/airbnb_listings.csv')\n",
    "\n",
    "# Display the first few rows to inspect the data\n",
    "data.head()"
   ]
  },
  {
   "cell_type": "markdown",
   "id": "4606be6f-a7e7-4db8-af28-29c4e2608b16",
   "metadata": {},
   "source": [
    "## 2. Splitting the Data into Training and Testing Sets\n",
    "\n",
    "We split our data so that we can train the model on one set and evaluate its performance on unseen data."
   ]
  },
  {
   "cell_type": "code",
   "execution_count": 49,
   "id": "ba6c07c3-ec81-43dc-9e6c-9a6cd9c731ae",
   "metadata": {},
   "outputs": [
    {
     "name": "stdout",
     "output_type": "stream",
     "text": [
      "Full data set shape (100, 12) \n",
      "---\n",
      "Training set shape: (70, 12)\n",
      "Testing set shape: (30, 12)\n"
     ]
    }
   ],
   "source": [
    "from sklearn.model_selection import train_test_split\n",
    "\n",
    "# Split the data: 70% for training, 30% for testing\n",
    "train_data, test_data = train_test_split(data, test_size=0.3, random_state=42)\n",
    "\n",
    "print(\"Full data set shape\", data.shape,\"\\n---\")\n",
    "print(\"Training set shape:\", train_data.shape)\n",
    "print(\"Testing set shape:\", test_data.shape)"
   ]
  },
  {
   "cell_type": "markdown",
   "id": "7dbd0d8a-e783-4d37-9f4d-72a757ef95ee",
   "metadata": {},
   "source": [
    "## 3. Fitting the Multiple Regression Model\n",
    "\n",
    "We fit a multiple regression model using the training data. The mathematical specification of the model is:\n",
    "\n",
    "$$\n",
    "\\begin{aligned}\n",
    "\\text{Price}_i &= \\beta_0 + \\beta_1 \\cdot \\text{Minimum\\_Nights}_i + \\beta_2 \\cdot \\text{Accommodates}_i + \\beta_3 \\cdot \\text{Bedrooms}_i \\\\\n",
    "&\\quad + \\beta_4 \\cdot \\text{Bathrooms}_i + \\beta_5 \\cdot \\text{Distance\\_CityCenter}_i + \\beta_6 \\cdot \\text{Review\\_Score}_i \\\\\n",
    "&\\quad + \\beta_7 \\cdot \\text{Number\\_of\\_Reviews}_i + \\beta_8 \\cdot \\text{Amenities\\_Score}_i + \\beta_9 \\cdot \\text{Superhost}_i \\\\\n",
    "&\\quad + \\beta_{10} \\cdot \\text{Listing\\_Age}_i + \\beta_{11} \\cdot \\text{Room\\_Type\\_Private}_i \\\\\n",
    "&\\quad + \\beta_{12} \\cdot \\text{Room\\_Type\\_Shared}_i + \\epsilon_i\n",
    "\\end{aligned}\n",
    "$$\n",
    "\n",
    "\n",
    "Here, we’ll use the Ordinary Least Squares (OLS) method from the statsmodels library to estimate the regression weights ($\\beta_i$$)."
   ]
  },
  {
   "cell_type": "code",
   "execution_count": 62,
   "id": "9efca654-d5bd-48dd-8b0f-7ca657c4b2ed",
   "metadata": {},
   "outputs": [
    {
     "name": "stdout",
     "output_type": "stream",
     "text": [
      "                            OLS Regression Results                            \n",
      "==============================================================================\n",
      "Dep. Variable:                  Price   R-squared:                       0.965\n",
      "Model:                            OLS   Adj. R-squared:                  0.958\n",
      "Method:                 Least Squares   F-statistic:                     132.9\n",
      "Date:                Tue, 11 Feb 2025   Prob (F-statistic):           4.69e-37\n",
      "Time:                        10:40:16   Log-Likelihood:                -249.28\n",
      "No. Observations:                  70   AIC:                             524.6\n",
      "Df Residuals:                      57   BIC:                             553.8\n",
      "Df Model:                          12                                         \n",
      "Covariance Type:            nonrobust                                         \n",
      "================================================================================================\n",
      "                                   coef    std err          t      P>|t|      [0.025      0.975]\n",
      "------------------------------------------------------------------------------------------------\n",
      "Intercept                       60.8587     12.356      4.926      0.000      36.117      85.600\n",
      "C(Room_Type)[T.Private room]    -1.5412      2.503     -0.616      0.541      -6.553       3.471\n",
      "C(Room_Type)[T.Shared room]     -4.7150      4.629     -1.019      0.313     -13.984       4.554\n",
      "Minimum_Nights                  -0.2348      0.436     -0.539      0.592      -1.107       0.637\n",
      "Accommodates                     4.0815      0.401     10.177      0.000       3.278       4.885\n",
      "Bedrooms                        19.3054      0.737     26.204      0.000      17.830      20.781\n",
      "Bathrooms                       12.0514      1.961      6.144      0.000       8.124      15.979\n",
      "Distance_CityCenter             -3.6076      0.408     -8.847      0.000      -4.424      -2.791\n",
      "Review_Score                    14.7981      2.182      6.782      0.000      10.429      19.168\n",
      "Number_of_Reviews               -0.0111      0.009     -1.295      0.200      -0.028       0.006\n",
      "Amenities_Score                  4.3810      0.428     10.243      0.000       3.525       5.238\n",
      "Superhost                       12.2569      2.381      5.148      0.000       7.489      17.025\n",
      "Listing_Age                     -2.6695      0.394     -6.768      0.000      -3.459      -1.880\n",
      "==============================================================================\n",
      "Omnibus:                        0.103   Durbin-Watson:                   1.875\n",
      "Prob(Omnibus):                  0.950   Jarque-Bera (JB):                0.028\n",
      "Skew:                           0.043   Prob(JB):                        0.986\n",
      "Kurtosis:                       2.952   Cond. No.                     3.28e+03\n",
      "==============================================================================\n",
      "\n",
      "Notes:\n",
      "[1] Standard Errors assume that the covariance matrix of the errors is correctly specified.\n",
      "[2] The condition number is large, 3.28e+03. This might indicate that there are\n",
      "strong multicollinearity or other numerical problems.\n"
     ]
    }
   ],
   "source": [
    "import statsmodels.formula.api as smf\n",
    "\n",
    "# Define the model formula:\n",
    "# \"Price\" is our dependent variable.\n",
    "# The tilde (~) separates the dependent variable from the predictors.\n",
    "# C(Room_Type) tells statsmodels to treat Room_Type as a categorical variable.\n",
    "formula = (\"Price ~ Minimum_Nights + Accommodates + Bedrooms + Bathrooms + \"\n",
    "           \"Distance_CityCenter + Review_Score + Number_of_Reviews + Amenities_Score + \"\n",
    "           \"Superhost + Listing_Age + C(Room_Type)\")\n",
    "\n",
    "#formula = (\"Price ~ Minimum_Nights\")\n",
    "\n",
    "# Fit the model using the training data\n",
    "model = smf.ols(formula=formula, data=train_data).fit()\n",
    "\n",
    "# Print the model summary\n",
    "print(model.summary())"
   ]
  },
  {
   "cell_type": "markdown",
   "id": "458a9215-8e01-404c-9abf-e1ef7b3cc439",
   "metadata": {},
   "source": [
    "## 5. Model Diagnostics\n",
    "\n",
    "After fitting the model, we should check its assumptions by analyzing residuals and potential multicollinearity."
   ]
  },
  {
   "cell_type": "code",
   "execution_count": 64,
   "id": "f7a23bd2-475e-4613-9e4f-4cb6eef9534c",
   "metadata": {},
   "outputs": [
    {
     "name": "stdout",
     "output_type": "stream",
     "text": [
      "Test Set Performance:\n",
      "Mean Squared Error (MSE): 116.35406154945798\n",
      "Root Mean Squared Error (RMSE): 10.786753985766895\n",
      "Mean Absolute Error (MAE): 8.439541577175971\n"
     ]
    },
    {
     "data": {
      "image/png": "[encoded data removed]",
      "text/plain": [
       "<Figure size 800x600 with 1 Axes>"
      ]
     },
     "metadata": {},
     "output_type": "display_data"
    }
   ],
   "source": [
    "from sklearn.metrics import mean_squared_error, mean_absolute_error\n",
    "\n",
    "# Use the fitted model to predict the test set prices\n",
    "predictions = model.predict(test_data)\n",
    "\n",
    "# Calculate performance metrics\n",
    "mse = mean_squared_error(test_data['Price'], predictions)\n",
    "rmse = np.sqrt(mse)\n",
    "mae = mean_absolute_error(test_data['Price'], predictions)\n",
    "\n",
    "print(\"Test Set Performance:\")\n",
    "print(\"Mean Squared Error (MSE):\", mse)\n",
    "print(\"Root Mean Squared Error (RMSE):\", rmse)\n",
    "print(\"Mean Absolute Error (MAE):\", mae)\n",
    "\n",
    "# Plot actual vs. predicted prices for visual comparison\n",
    "plt.figure(figsize=(8, 6))\n",
    "sns.scatterplot(x=test_data['Price'], y=predictions)\n",
    "plt.plot([test_data['Price'].min(), test_data['Price'].max()],\n",
    "         [test_data['Price'].min(), test_data['Price'].max()],\n",
    "         color='red', linestyle='--')\n",
    "plt.xlabel('Actual Price')\n",
    "plt.ylabel('Predicted Price')\n",
    "plt.title('Actual vs. Predicted Airbnb Prices')\n",
    "plt.show()"
   ]
  },
  {
   "cell_type": "code",
   "execution_count": null,
   "id": "691da656-9536-4796-af4a-c6dc38ad52af",
   "metadata": {},
   "outputs": [],
   "source": []
  }
 ],
 "metadata": {
  "kernelspec": {
   "display_name": "Python 3 (ipykernel)",
   "language": "python",
   "name": "python3"
  },
  "language_info": {
   "codemirror_mode": {
    "name": "ipython",
    "version": 3
   },
   "file_extension": ".py",
   "mimetype": "text/x-python",
   "name": "python",
   "nbconvert_exporter": "python",
   "pygments_lexer": "ipython3",
   "version": "3.10.7"
  }
 },
 "nbformat": 4,
 "nbformat_minor": 5
}
